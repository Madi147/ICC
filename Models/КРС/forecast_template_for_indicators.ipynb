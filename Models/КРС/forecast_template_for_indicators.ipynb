{
 "cells": [
  {
   "cell_type": "code",
   "execution_count": null,
   "id": "fedd541a",
   "metadata": {},
   "outputs": [],
   "source": [
    "\n",
    "import pandas as pd\n",
    "import numpy as np\n",
    "import matplotlib.pyplot as plt\n",
    "from statsmodels.tsa.holtwinters import ExponentialSmoothing\n",
    "from statsmodels.tsa.statespace.sarimax import SARIMAX\n",
    "from prophet import Prophet\n",
    "from sklearn.metrics import mean_squared_error, mean_absolute_error\n",
    "import warnings\n",
    "warnings.filterwarnings(\"ignore\")\n",
    "\n",
    "plt.style.use(\"seaborn-whitegrid\")\n"
   ]
  },
  {
   "cell_type": "code",
   "execution_count": null,
   "id": "04760f64",
   "metadata": {},
   "outputs": [],
   "source": [
    "\n",
    "# Load dataset\n",
    "df = pd.read_excel(\"Датасет по КРС.xlsx\")\n",
    "df[\"Период\"] = pd.to_datetime(df[\"Период\"], format=\"%Y-%m\")\n",
    "df = df.rename(columns={\"КРС\": \"Объем убоя: КРС\"})\n",
    "target = \"Объем убоя: КРС\"\n"
   ]
  },
  {
   "cell_type": "code",
   "execution_count": null,
   "id": "1948a19b",
   "metadata": {},
   "outputs": [],
   "source": [
    "\n",
    "regions = df[\"Регион\"].unique()\n",
    "results = []\n",
    "\n",
    "for region in regions:\n",
    "    region_df = df[df[\"Регион\"] == region].copy()\n",
    "    region_df = region_df.drop(columns=\"Регион\")\n",
    "\n",
    "    train = region_df[region_df[\"Период\"] < \"2024-01\"]\n",
    "    test = region_df[(region_df[\"Период\"] >= \"2024-01\") & (region_df[\"Период\"] < \"2024-04\")]\n",
    "\n",
    "    # Holt-Winters\n",
    "    hw_model = ExponentialSmoothing(train[target], seasonal='add', seasonal_periods=12).fit()\n",
    "    hw_forecast = hw_model.forecast(len(test))\n",
    "\n",
    "    # SARIMA\n",
    "    sarima_model = SARIMAX(train[target], order=(1,1,1), seasonal_order=(1,1,1,12)).fit(disp=False)\n",
    "    sarima_forecast = sarima_model.forecast(len(test))\n",
    "\n",
    "    # Prophet\n",
    "    prophet_train = train.rename(columns={\"Период\": \"ds\", target: \"y\"})\n",
    "    prophet_model = Prophet()\n",
    "    prophet_model.fit(prophet_train)\n",
    "    future = prophet_model.make_future_dataframe(periods=len(test), freq=\"M\")\n",
    "    prophet_forecast_df = prophet_model.predict(future)\n",
    "    prophet_forecast = prophet_forecast_df.iloc[-len(test):][\"yhat\"].values\n",
    "\n",
    "    # Evaluation\n",
    "    y_true = test[target].values\n",
    "    for name, forecast in zip([\"Holt-Winters\", \"SARIMA\", \"Prophet\"], [hw_forecast, sarima_forecast, prophet_forecast]):\n",
    "        rmse = np.sqrt(mean_squared_error(y_true, forecast))\n",
    "        mae = mean_absolute_error(y_true, forecast)\n",
    "        mape = np.mean(np.abs((y_true - forecast) / y_true)) * 100\n",
    "        results.append({\n",
    "            \"Регион\": region,\n",
    "            \"Метод\": name,\n",
    "            \"RMSE\": rmse,\n",
    "            \"MAE\": mae,\n",
    "            \"MAPE (%)\": mape,\n",
    "        })\n"
   ]
  },
  {
   "cell_type": "code",
   "execution_count": null,
   "id": "745cfcd5",
   "metadata": {},
   "outputs": [],
   "source": [
    "\n",
    "results_df = pd.DataFrame(results)\n",
    "best_models = results_df.loc[results_df.groupby(\"Регион\")[\"MAPE (%)\"].idxmin()].reset_index(drop=True)\n",
    "print(\"Лучшие модели по регионам:\")\n",
    "display(best_models)\n"
   ]
  }
 ],
 "metadata": {},
 "nbformat": 4,
 "nbformat_minor": 5
}
