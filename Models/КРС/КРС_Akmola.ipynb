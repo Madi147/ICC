{
 "cells": [
  {
   "cell_type": "markdown",
   "metadata": {},
   "source": [
    "## Модели прогнозирования объема убоя КРС по Акмолинской области"
   ]
  },
  {
   "cell_type": "code",
   "execution_count": null,
   "metadata": {},
   "outputs": [],
   "source": [
    "import numpy as np\n",
    "import pandas as pd\n",
    "import matplotlib.pyplot as plt\n",
    "%matplotlib inline\n",
    "import seaborn as sns\n",
    "from statsmodels.tsa.stattools import adfuller\n",
    "from statsmodels.tsa.stattools import kpss\n",
    "from statsmodels.tsa.seasonal import seasonal_decompose\n",
    "from statsmodels.tsa.arima.model import ARIMA\n",
    "from pmdarima import auto_arima\n",
    "import statsmodels.api as sm\n",
    "from sklearn.linear_model import LinearRegression\n",
    "from sklearn.metrics import mean_squared_error, mean_absolute_error, r2_score\n",
    "\n",
    "from statsmodels.stats.outliers_influence import variance_inflation_factor\n",
    "from statsmodels.tools.tools import add_constant\n",
    "from statsmodels.graphics.tsaplots import plot_acf, plot_pacf\n",
    "from pylab import rcParams\n",
    "from IPython.display import display\n",
    "import math\n",
    "from prophet import Prophet\n",
    "pd.set_option('display.max_columns', 130)\n",
    "\n",
    "\n",
    "import warnings\n",
    "from statsmodels.tools.sm_exceptions import InterpolationWarning\n",
    "warnings.simplefilter(\"ignore\", category=InterpolationWarning)\n",
    "warnings.filterwarnings(\"ignore\", category=FutureWarning)\n",
    "\n"
   ]
  },
  {
   "cell_type": "markdown",
   "metadata": {},
   "source": [
    "### Подготовка данных и EDA"
   ]
  },
  {
   "cell_type": "code",
   "execution_count": null,
   "metadata": {},
   "outputs": [],
   "source": [
    "df = pd.read_excel(\"Датасет по КРС.xlsx\")\n",
    "df.head(5)"
   ]
  },
  {
   "cell_type": "code",
   "execution_count": null,
   "metadata": {},
   "outputs": [],
   "source": [
    "df_akmola = df[df['Регион'] == 'АКМОЛИНСКАЯ ОБЛАСТЬ']\n",
    "df_akmola = df_akmola.drop('Регион', axis = 'columns')\n",
    "df_akmola.head()"
   ]
  },
  {
   "cell_type": "code",
   "execution_count": null,
   "metadata": {},
   "outputs": [],
   "source": [
    "df_akmola = df_akmola.rename(columns={'КРС': 'Объем убоя: КРС'})\n",
    "df_akmola.head()"
   ]
  },
  {
   "cell_type": "code",
   "execution_count": null,
   "metadata": {},
   "outputs": [],
   "source": [
    "df_akmola['Период'] = pd.to_datetime(df_akmola['Период'], format='%Y-%m')"
   ]
  },
  {
   "cell_type": "code",
   "execution_count": null,
   "metadata": {},
   "outputs": [],
   "source": [
    "df_akmola.info()"
   ]
  },
  {
   "cell_type": "code",
   "execution_count": null,
   "metadata": {},
   "outputs": [],
   "source": [
    "df_akmola.isna().sum()"
   ]
  },
  {
   "cell_type": "code",
   "execution_count": null,
   "metadata": {},
   "outputs": [],
   "source": [
    "# Plot each variable in its own subplot\n",
    "value_cols = [col for col in df_akmola.columns if col not in [\"Период\"]]\n",
    "\n",
    "n = len(value_cols)\n",
    "plt.figure(figsize=(18, 4 * n))\n",
    "\n",
    "for i, col in enumerate(value_cols, 1):\n",
    "    plt.subplot(n, 1, i)\n",
    "    plt.plot(df_akmola[\"Период\"], df_akmola[col], marker=\"o\")\n",
    "    plt.title(f\"{col}\")\n",
    "    plt.grid(True)\n",
    "    plt.ylabel(\"Значение\")\n",
    "    plt.xticks(rotation=45, fontsize = 6)\n",
    "\n",
    "plt.suptitle(\"Временные ряды по переменным, Акмолинская область, КРС\", y=1.01)\n",
    "plt.tight_layout()\n",
    "plt.show()\n"
   ]
  },
  {
   "cell_type": "code",
   "execution_count": null,
   "metadata": {},
   "outputs": [],
   "source": [
    "y = df_akmola[\"Объем убоя: КРС\"].sort_index()\n",
    "\n",
    "# Plot ACF and PACF\n",
    "plt.figure(figsize=(14, 6))\n",
    "\n",
    "plt.subplot(1, 2, 1)\n",
    "plot_acf(y, lags=36, ax=plt.gca(), title=\"ACF — Автокорреляционная функция\")\n",
    "\n",
    "plt.subplot(1, 2, 2)\n",
    "plot_pacf(y, lags=36, ax=plt.gca(), title=\"PACF — Частичная автокорреляционная функция\", method=\"ywm\")\n",
    "plt.suptitle(\"Акмолинская область, КРС\", y=1.01)\n",
    "\n",
    "plt.tight_layout()\n",
    "plt.show()"
   ]
  },
  {
   "cell_type": "markdown",
   "metadata": {},
   "source": [
    "Графики автокорреляционной и частичной автокорреляционной функций указывают на **сильную взаимосвязь показателей текущего месяца со значениями предыдущего месяца** и на возможную **годовую сезонность** (пики на +12, +24 и +36 месяцев). "
   ]
  },
  {
   "cell_type": "code",
   "execution_count": null,
   "metadata": {},
   "outputs": [],
   "source": [
    "# Perform decomposition (period=12 for monthly data)\n",
    "decomposition = seasonal_decompose(df_akmola[\"Объем убоя: КРС\"], model=\"additive\", period=12)\n",
    "\n",
    "# Plot with larger figure size\n",
    "fig = decomposition.plot()\n",
    "fig.set_size_inches(12, 8)\n",
    "plt.suptitle(\"Сезонная декомпозиция, Акмолинская область, КРС\", fontsize=12)\n",
    "plt.tight_layout()\n",
    "plt.show()\n"
   ]
  },
  {
   "cell_type": "code",
   "execution_count": null,
   "metadata": {},
   "outputs": [],
   "source": [
    "# Run ADF test\n",
    "result = adfuller(df_akmola[\"Объем убоя: КРС\"])\n",
    "\n",
    "# Display results\n",
    "print(\"📊 Augmented Dickey-Fuller Test Results:\")\n",
    "print(f\"ADF Statistic: {result[0]:.4f}\")\n",
    "print(f\"p-value: {result[1]:.4f}\")\n",
    "for key, value in result[4].items():\n",
    "    print(f\"Critical Value ({key}): {value:.4f}\")\n",
    "\n",
    "# Interpretation\n",
    "if result[1] < 0.05:\n",
    "    print(\"✅ The series is likely **stationary** (reject H₀).\")\n",
    "else:\n",
    "    print(\"❌ The series is likely **non-stationary** (fail to reject H₀).\")\n"
   ]
  },
  {
   "cell_type": "markdown",
   "metadata": {},
   "source": [
    "Результаты теста ADF указывают на **нестационарность** временного ряда."
   ]
  },
  {
   "cell_type": "code",
   "execution_count": null,
   "metadata": {},
   "outputs": [],
   "source": [
    "df_akmola"
   ]
  },
  {
   "cell_type": "code",
   "execution_count": null,
   "metadata": {},
   "outputs": [],
   "source": [
    "# Создание лагов t-1 до t-4 для переменных\n",
    "for lag in range(1, 5):\n",
    "    df_akmola[f\"КРС_t-{lag}\"] = df_akmola[\"Объем убоя: КРС\"].shift(lag)\n",
    "    df_akmola[f\"Температура_t-{lag}\"] = df_akmola[\"Температура\"].shift(lag)\n",
    "    df_akmola[f\"Осадки_t-{lag}\"] = df_akmola[\"Осадки\"].shift(lag)\n",
    "    df_akmola[f\"Поголовье: КРС_t-{lag}\"] = df_akmola[\"Поголовье: КРС\"].shift(lag)\n",
    "\n",
    "# Удаляем строки с NaN после сдвигов\n",
    "df_akmola_lagged = df_akmola.dropna().copy()\n",
    "df_akmola_lagged = df_akmola_lagged[[\"Период\",\n",
    "    \"Объем убоя: КРС\", \"КРС_t-1\", \"КРС_t-2\", \"КРС_t-3\", \"КРС_t-4\",\n",
    "    \"Температура\", \"Температура_t-1\", \"Температура_t-2\", \"Температура_t-3\", \"Температура_t-4\",\n",
    "    \"Осадки\", \"Осадки_t-1\", \"Осадки_t-2\", \"Осадки_t-3\", \"Осадки_t-4\",\n",
    "    \"Поголовье: КРС\", \"Поголовье: КРС_t-1\", \"Поголовье: КРС_t-2\", \"Поголовье: КРС_t-3\", \"Поголовье: КРС_t-4\"]]\n",
    "\n",
    "df_akmola_lagged"
   ]
  },
  {
   "cell_type": "code",
   "execution_count": null,
   "metadata": {},
   "outputs": [],
   "source": [
    "df_corr = df_akmola_lagged[[col for col in df_akmola_lagged.columns if col not in [\"Период\"]]].dropna()\n",
    "\n",
    "# 1. Correlation matrix\n",
    "corr_matrix = df_corr.corr()\n",
    "\n",
    "# 2. Plot heatmap\n",
    "plt.figure(figsize=(12, 8))\n",
    "sns.heatmap(corr_matrix, annot=True, cmap=\"coolwarm\", fmt=\".2f\")\n",
    "plt.title(\"Корреляции между переменными, Акмолинская область, КРС\")\n",
    "plt.tight_layout()\n",
    "plt.show()"
   ]
  },
  {
   "cell_type": "markdown",
   "metadata": {},
   "source": [
    "* Умеренная позитивная корреляция (0.51) между показателями объема убоя за все соседствующие временные периоды: между t0 и t-1, t-1 и t-2 так далее. Это свидетельствует о наличии автокорреляции в данных: значения показателя в текущем месяце частично объясняются значениями в соседних месяцах. Это типичный признак временных рядов, особенно в аграрной статистике, где производственные процессы имеют инерционный характер. Это также означает, что модели авторегрессии (AR, ARIMA, SARIMA) могут хорошо работать на этих данных, так как текущие значения \"похожи\" на недавние;\n",
    "* Корреляция между значениями обема убоя текущего месяца и предыдущих месяцев постепенно ослабевает, в особенности после лага в t-3. Это может быть связано с тем, что основной объём данных формируется за счёт отчетности крестьянских/фермерских хозяйств и хозяйств населения, которые сдают отчетность ежеквартально. В результате, месячные значения могут быть получены путём декомпозиции квартальных показателей, что сглаживает внутриквартальные различия, но снижает связь между кварталами.\n",
    "* Температура и осадки, в том числе за предыдущие месяцы, умеренно негативно коррелируют с показателями обема убоя; \n",
    "* Между показателями объема убоя и поголовья в рамках значений текущего и предыдущего месяцев отмечается незначительная позитивная корреляция (0.19 и 0.12).\n",
    "\n",
    "**МОЖНО ЕЩЕ ДОБАВИТЬ ВЫВОДЫ ПРИ НЕОБХОДИМОСТИ**"
   ]
  },
  {
   "cell_type": "markdown",
   "metadata": {},
   "source": [
    "### Models"
   ]
  },
  {
   "cell_type": "markdown",
   "metadata": {},
   "source": [
    "#### Многофакторная регрессия"
   ]
  },
  {
   "cell_type": "code",
   "execution_count": null,
   "metadata": {},
   "outputs": [],
   "source": [
    "df_akmola = df_akmola[[\"Период\",\n",
    "    \"Объем убоя: КРС\", \"КРС_t-1\", \"КРС_t-2\", \"КРС_t-3\", \"КРС_t-4\",\n",
    "    \"Температура\", \"Температура_t-1\", \"Температура_t-2\", \"Температура_t-3\", \"Температура_t-4\",\n",
    "    \"Осадки\", \"Осадки_t-1\", \"Осадки_t-2\", \"Осадки_t-3\", \"Осадки_t-4\",\n",
    "    \"Поголовье: КРС\", \"Поголовье: КРС_t-1\", \"Поголовье: КРС_t-2\", \"Поголовье: КРС_t-3\", \"Поголовье: КРС_t-4\"]]\n",
    "df_akmola"
   ]
  },
  {
   "cell_type": "code",
   "execution_count": null,
   "metadata": {},
   "outputs": [],
   "source": [
    "df_akmola_lagged"
   ]
  },
  {
   "cell_type": "code",
   "execution_count": null,
   "metadata": {},
   "outputs": [],
   "source": [
    "df_vif = df_akmola_lagged[[col for col in df_akmola_lagged.columns if col not in [\"Период\"]]]\n",
    "\n",
    "X_vif = add_constant(df_vif[[i for i in df_vif.columns if i != \"Объем убоя: КРС\"]])\n",
    "\n",
    "vif_data = pd.DataFrame({\n",
    "    \"Variable\": X_vif.columns,\n",
    "    \"VIF\": [variance_inflation_factor(X_vif.values, i) for i in range(X_vif.shape[1])]\n",
    "})\n",
    "vif_data"
   ]
  },
  {
   "cell_type": "code",
   "execution_count": null,
   "metadata": {},
   "outputs": [],
   "source": [
    "def forward_selection(data, target, candidate_features, criterion=\"adj_r2\"):\n",
    "    remaining = list(candidate_features)\n",
    "    selected = []\n",
    "    best_score = -float(\"inf\")\n",
    "    best_model = None\n",
    "\n",
    "    while remaining:\n",
    "        scores_with_candidates = []\n",
    "        for candidate in remaining:\n",
    "            features = selected + [candidate]\n",
    "            X = sm.add_constant(data[features])\n",
    "            y = data[target]\n",
    "            model = sm.OLS(y, X).fit()\n",
    "\n",
    "            if criterion == \"adj_r2\":\n",
    "                score = model.rsquared_adj\n",
    "            elif criterion == \"aic\":\n",
    "                score = -model.aic  # negative for maximizing\n",
    "            else:\n",
    "                raise ValueError(\"criterion must be 'adj_r2' or 'aic'\")\n",
    "\n",
    "            scores_with_candidates.append((score, candidate, model))\n",
    "\n",
    "        scores_with_candidates.sort(reverse=True)\n",
    "        best_new_score, best_candidate, model = scores_with_candidates[0]\n",
    "\n",
    "        if best_new_score > best_score:\n",
    "            remaining.remove(best_candidate)\n",
    "            selected.append(best_candidate)\n",
    "            best_score = best_new_score\n",
    "            best_model = model\n",
    "            print(f\"✅ Added: {best_candidate}, {criterion.upper()}: {best_score:.4f}\")\n",
    "        else:\n",
    "            print(\"⛔ No improvement. Stopping.\")\n",
    "            break\n",
    "\n",
    "    return selected, best_model\n"
   ]
  },
  {
   "cell_type": "code",
   "execution_count": null,
   "metadata": {},
   "outputs": [],
   "source": [
    "# Define target and candidate predictors\n",
    "target = \"Объем убоя: КРС\"\n",
    "candidate_features = ['Осадки', 'Осадки_t-3', 'Осадки_t-2', 'Осадки_t-1',\n",
    "    'Температура', 'Температура_t-3', 'Температура_t-2', 'Температура_t-1',\n",
    "    'Поголовье: КРС', 'Поголовье: КРС_t-3', 'Поголовье: КРС_t-2', 'Поголовье: КРС_t-1',\n",
    "    'КРС_t-4', 'КРС_t-3', 'КРС_t-2', 'КРС_t-1']\n",
    "\n",
    "# Drop rows with missing values\n",
    "df_mlr = df_akmola[candidate_features + [target]].dropna()\n",
    "\n",
    "# Run forward selection\n",
    "selected_features, final_model = forward_selection(df_mlr, target, candidate_features, criterion=\"adj_r2\")\n",
    "\n",
    "# Show final summary\n",
    "\n",
    "print(selected_features)\n",
    "print(\"\\n🧾 Final Model Summary:\")\n",
    "print(final_model.summary())\n",
    "\n"
   ]
  },
  {
   "cell_type": "code",
   "execution_count": null,
   "metadata": {},
   "outputs": [],
   "source": [
    "# Ensure your dataframe is sorted by time\n",
    "df = df_akmola.sort_values(\"Период\").dropna().copy()\n",
    "\n",
    "# # Selected features\n",
    "# selected_features = [\n",
    "#     'Температура_t-1', 'Поголовье: КРС', 'Температура_t-3', 'КРС_t-4', 'КРС_t-2', 'Осадки_t-1', 'Осадки_t-3', 'Поголовье: КРС_t-1'\n",
    "# ]\n",
    "\n",
    "target = \"Объем убоя: КРС\"\n",
    "results = []\n",
    "\n",
    "# Define 4 rolling test sets for 2024\n",
    "start_dates = [\"2024-01\", \"2024-04\", \"2024-07\", \"2024-10\"]\n",
    "\n",
    "for start in start_dates:\n",
    "    test_start = pd.to_datetime(start)\n",
    "    test_end = test_start + pd.DateOffset(months=3) - pd.DateOffset(days=1)\n",
    "\n",
    "    # Split data\n",
    "    train_df = df[df[\"Период\"] < test_start]\n",
    "    test_df = df[(df[\"Период\"] >= test_start) & (df[\"Период\"] <= test_end)]\n",
    "\n",
    "    # Drop NAs and align predictors\n",
    "    X_train = sm.add_constant(train_df[selected_features])\n",
    "    y_train = train_df[target]\n",
    "\n",
    "    X_test = sm.add_constant(test_df[selected_features])\n",
    "    y_test = test_df[target]\n",
    "\n",
    "    # Fit and predict\n",
    "    model = sm.OLS(y_train, X_train).fit()\n",
    "    y_pred = model.predict(X_test)\n",
    "\n",
    "    # Metrics\n",
    "    rmse = np.sqrt(mean_squared_error(y_test, y_pred))\n",
    "    mae = mean_absolute_error(y_test, y_pred)\n",
    "    mape = (np.abs((y_test - y_pred) / y_test).mean()) * 100\n",
    "    # print(y_test, '\\n', y_pred, '\\n', y_test-y_pred)\n",
    "\n",
    "    r2 = r2_score(y_test, y_pred)\n",
    "    # print(\"Zero values in y_test:\", (y_test == 0).sum())\n",
    "\n",
    "\n",
    "    results.append({\n",
    "        \"Test period\": f\"{start} to {test_end.strftime('%Y-%m')}\",\n",
    "        \"RMSE\": rmse,\n",
    "        \"MAE\": mae,\n",
    "        \"MAPE (%)\": mape,\n",
    "        # \"R²\": r2\n",
    "    })\n",
    "    plt.figure(figsize=(12, 6))\n",
    "    last_train_year = train_df[train_df[\"Период\"] >= (test_start - pd.DateOffset(months=12))]\n",
    "    plt.plot(last_train_year[\"Период\"], last_train_year[target], color=\"lightgray\", label=\"Фактические данные (последний год)\")\n",
    "\n",
    "    plt.plot(test_df[\"Период\"], y_test.values, marker=\"o\", color=\"black\", label=\"Фактические данные (тестовый период)\")\n",
    "    plt.plot(test_df[\"Период\"], y_pred.values, marker=\"s\", linestyle=\"--\", color=\"green\", label=\"Прогнозные данные (тестовый период)\")\n",
    "\n",
    "    plt.axvline(test_start, color=\"gray\", linestyle=\"--\", label=\"Граница между тренировочными и тестовыми данными\")\n",
    "    plt.title(f\"Акмолинская область — Многофакторная регрессия (с {start} по {test_end.strftime('%Y-%m')})\")\n",
    "    plt.xlabel(\"Период\")\n",
    "    plt.ylabel(\"Объем убоя: КРС\")\n",
    "    plt.legend()\n",
    "    plt.grid(True)\n",
    "    plt.xticks(rotation=45)\n",
    "    plt.tight_layout()\n",
    "    plt.show()"
   ]
  },
  {
   "cell_type": "code",
   "execution_count": null,
   "metadata": {},
   "outputs": [],
   "source": [
    "# Convert to DataFrame\n",
    "results_df = pd.DataFrame(results)\n",
    "avg_row = results_df.mean(numeric_only=True).to_dict()\n",
    "avg_row[\"Test period\"] = \"Average\"\n",
    "results_df = pd.concat([results_df, pd.DataFrame([avg_row])], ignore_index=True)\n",
    "\n",
    "# Show results\n",
    "print(results_df)"
   ]
  },
  {
   "cell_type": "code",
   "execution_count": null,
   "metadata": {},
   "outputs": [],
   "source": [
    "df_akmola"
   ]
  },
  {
   "cell_type": "markdown",
   "metadata": {},
   "source": [
    "#### ARIMA/SARIMA/SARIMAX"
   ]
  },
  {
   "cell_type": "code",
   "execution_count": null,
   "metadata": {},
   "outputs": [],
   "source": [
    "df = df_akmola.sort_values(\"Период\").copy()\n",
    "df[\"Период\"] = pd.to_datetime(df[\"Период\"])\n",
    "\n",
    "target = \"Объем убоя: КРС\"\n",
    "results = []\n",
    "\n",
    "# Определим 4 тестовых периода на 3 месяца\n",
    "start_dates = [\"2024-01\", \"2024-04\", \"2024-07\", \"2024-10\"]\n",
    "\n",
    "for start in start_dates:\n",
    "    test_start = pd.to_datetime(start)\n",
    "    test_end = test_start + pd.DateOffset(months=3) - pd.DateOffset(days=1)\n",
    "\n",
    "    # Разделим данные\n",
    "    train_df = df[df[\"Период\"] < test_start]\n",
    "    test_df = df[(df[\"Период\"] >= test_start) & (df[\"Период\"] <= test_end)]\n",
    "\n",
    "    y_train = train_df[target].reset_index(drop=True)\n",
    "    y_test = test_df[target].reset_index(drop=True)\n",
    "\n",
    "    try:\n",
    "        model = auto_arima(\n",
    "            y_train,\n",
    "            seasonal=True,\n",
    "            m=12,\n",
    "            stepwise=True,\n",
    "            suppress_warnings=True,\n",
    "            error_action=\"ignore\"\n",
    "        )\n",
    "\n",
    "        forecast = model.predict(n_periods=3)\n",
    "        forecast = pd.Series(forecast).reset_index(drop=True)\n",
    "        # forecast = pd.Series(model.predict(n_periods=len(y_test)), index=y_test.index)\n",
    "        # print(y_test, '\\n', forecast, '\\n', y_test-forecast)\n",
    "        # print(\"Are indices equal?\", y_test.index.equals(forecast.index))\n",
    "\n",
    "\n",
    "\n",
    "        # Оценка\n",
    "        rmse = np.sqrt(mean_squared_error(y_test, forecast))\n",
    "        mae = mean_absolute_error(y_test, forecast)\n",
    "        mape = (np.abs((y_test - forecast) / y_test).mean()) * 100\n",
    "\n",
    "        results.append({\n",
    "            \"Test period\": f\"{start} to {test_end.strftime('%Y-%m')}\",\n",
    "            \"RMSE\": rmse,\n",
    "            \"MAE\": mae,\n",
    "            \"MAPE (%)\": mape,\n",
    "            \"SARIMA order\": model.order,\n",
    "            \"Seasonal order\": model.seasonal_order\n",
    "        })\n",
    "\n",
    "        # График\n",
    "        plt.figure(figsize=(10, 5))\n",
    "        last_train = train_df[train_df[\"Период\"] >= (test_start - pd.DateOffset(months=12))]\n",
    "        plt.plot(last_train[\"Период\"], last_train[target], color=\"lightgray\", label=\"Фактические данные (последний год)\")\n",
    "        plt.plot(test_df[\"Период\"], y_test, marker=\"o\", color=\"black\", label=\"Фактические данные (тестовый период)\")\n",
    "        plt.plot(test_df[\"Период\"], forecast, marker=\"s\", linestyle=\"--\", color=\"red\", label=\"Прогнозные данные (тестовый период)\")\n",
    "        plt.axvline(test_start, color=\"gray\", linestyle=\"--\", label=\"Граница между тренировочными и тестовыми данными\")\n",
    "        plt.title(f\"Акмолинская область — SARIMA {model.order}x{model.seasonal_order} (с {start} по {test_end.strftime('%Y-%m')})\")\n",
    "        plt.xlabel(\"Период\")\n",
    "        plt.ylabel(\"Объем убоя: КРС\")\n",
    "        plt.legend()\n",
    "        plt.grid(True)\n",
    "        plt.xticks(rotation=45)\n",
    "        plt.tight_layout()\n",
    "        plt.show()\n",
    "        # print(\"Zero values in y_test:\", (y_test == 0).sum())\n",
    "\n",
    "\n",
    "    except Exception as e:\n",
    "        print(f\"⚠️ Ошибка в периоде {start}: {e}\")"
   ]
  },
  {
   "cell_type": "code",
   "execution_count": null,
   "metadata": {},
   "outputs": [],
   "source": [
    "# Вывод метрик\n",
    "results_df = pd.DataFrame(results)\n",
    "avg_row = results_df[[\"RMSE\", \"MAE\", \"MAPE (%)\"]].mean().to_dict()\n",
    "avg_row[\"Test period\"] = \"Average\"\n",
    "results_df = pd.concat([results_df, pd.DataFrame([avg_row])], ignore_index=True)\n",
    "\n",
    "print(results_df)\n"
   ]
  },
  {
   "cell_type": "code",
   "execution_count": null,
   "metadata": {},
   "outputs": [],
   "source": [
    "from statsmodels.tsa.statespace.sarimax import SARIMAX\n",
    "\n",
    "# Define your exogenous variables\n",
    "exog_vars = ['Температура_t-1', 'Поголовье: КРС']\n",
    "\n",
    "df = df_akmola.sort_values(\"Период\").dropna().copy()\n",
    "df[\"Период\"] = pd.to_datetime(df[\"Период\"])\n",
    "\n",
    "target = \"Объем убоя: КРС\"\n",
    "results = []\n",
    "\n",
    "start_dates = [\"2024-01\", \"2024-04\", \"2024-07\", \"2024-10\"]\n",
    "\n",
    "for start in start_dates:\n",
    "    test_start = pd.to_datetime(start)\n",
    "    test_end = test_start + pd.DateOffset(months=3) - pd.DateOffset(days=1)\n",
    "\n",
    "    # Split\n",
    "    train_df = df[df[\"Период\"] < test_start]\n",
    "    test_df = df[(df[\"Период\"] >= test_start) & (df[\"Период\"] <= test_end)]\n",
    "\n",
    "    y_train = train_df[target].reset_index(drop=True)\n",
    "    y_test = test_df[target].reset_index(drop=True)\n",
    "\n",
    "    exog_train = train_df[exog_vars].reset_index(drop=True)\n",
    "    exog_test = test_df[exog_vars].reset_index(drop=True)\n",
    "\n",
    "    try:\n",
    "        model = SARIMAX(\n",
    "            endog=y_train,\n",
    "            exog=exog_train,\n",
    "            order=(0, 0, 1),\n",
    "            seasonal_order=(1, 0, 0, 12),\n",
    "            enforce_stationarity=False,\n",
    "            enforce_invertibility=False\n",
    "        ).fit(disp=False)\n",
    "\n",
    "        forecast_res = model.get_forecast(steps=3, exog=exog_test)\n",
    "        forecast = forecast_res.predicted_mean.reset_index(drop=True)\n",
    "\n",
    "        rmse = np.sqrt(mean_squared_error(y_test, forecast))\n",
    "        mae = mean_absolute_error(y_test, forecast)\n",
    "        mape = (np.abs((y_test - forecast) / y_test).mean()) * 100\n",
    "\n",
    "        results.append({\n",
    "            \"Test period\": f\"{start} to {test_end.strftime('%Y-%m')}\",\n",
    "            \"RMSE\": rmse,\n",
    "            \"MAE\": mae,\n",
    "            \"MAPE (%)\": mape,\n",
    "            \"SARIMA order\": model.model_orders[\"ar\"],\n",
    "            \"Seasonal order\": model.model_orders.get(\"seasonal_ar\", None)\n",
    "        })\n",
    "\n",
    "        # Plot\n",
    "        plt.figure(figsize=(10, 5))\n",
    "        last_train = train_df[train_df[\"Период\"] >= (test_start - pd.DateOffset(months=12))]\n",
    "        plt.plot(last_train[\"Период\"], last_train[target], color=\"lightgray\", label=\"Фактические данные (последний год)\")\n",
    "        plt.plot(test_df[\"Период\"], y_test, marker=\"o\", color=\"black\", label=\"Фактические данные (тестовый период)\")\n",
    "        plt.plot(test_df[\"Период\"], forecast, marker=\"s\", linestyle=\"--\", color=\"orange\", label=\"Прогнозные данные (тестовый период)\")\n",
    "        plt.axvline(test_start, color=\"gray\", linestyle=\"--\", label=\"Граница между тренировочными и тестовыми данными\")\n",
    "        plt.title(f\"Акмолинская область — SARIMAX (с {start} по {test_end.strftime('%Y-%m')})\")\n",
    "        plt.xlabel(\"Период\")\n",
    "        plt.ylabel(\"Объем убоя: КРС\")\n",
    "        plt.legend()\n",
    "        plt.grid(True)\n",
    "        plt.xticks(rotation=45)\n",
    "        plt.tight_layout()\n",
    "        plt.show()\n",
    "\n",
    "    except Exception as e:\n",
    "        print(f\"⚠️ Ошибка в периоде {start}: {e}\")\n"
   ]
  },
  {
   "cell_type": "code",
   "execution_count": null,
   "metadata": {},
   "outputs": [],
   "source": [
    "# Вывод метрик для SARIMAX\n",
    "results_df = pd.DataFrame(results)\n",
    "\n",
    "# Средние значения по метрикам\n",
    "avg_metrics = results_df[[\"RMSE\", \"MAE\", \"MAPE (%)\"]].mean().to_dict()\n",
    "avg_metrics[\"Test period\"] = \"Average\"\n",
    "avg_metrics[\"SARIMA order\"] = \"\"\n",
    "avg_metrics[\"Seasonal order\"] = \"\"\n",
    "\n",
    "# Добавим строку со средними значениями\n",
    "results_df = pd.concat([results_df, pd.DataFrame([avg_metrics])], ignore_index=True)\n",
    "\n",
    "# Вывод\n",
    "print(results_df)\n",
    "\n"
   ]
  },
  {
   "cell_type": "markdown",
   "metadata": {},
   "source": [
    "#### Prophet"
   ]
  },
  {
   "cell_type": "code",
   "execution_count": null,
   "metadata": {},
   "outputs": [],
   "source": [
    "# Prepare Data\n",
    "df = df_akmola.sort_values(\"Период\").dropna().copy()\n",
    "df[\"Период\"] = pd.to_datetime(df[\"Период\"])\n",
    "\n",
    "target = \"Объем убоя: КРС\"\n",
    "results = []\n",
    "\n",
    "# Define 4 test periods\n",
    "start_dates = [\"2024-01\", \"2024-04\", \"2024-07\", \"2024-10\"]\n",
    "\n",
    "for start in start_dates:\n",
    "    test_start = pd.to_datetime(start)\n",
    "    test_end = test_start + pd.DateOffset(months=3) - pd.DateOffset(days=1)\n",
    "\n",
    "    # Train/test split\n",
    "    train_df = df[df[\"Период\"] < test_start].copy()\n",
    "    test_df = df[(df[\"Период\"] >= test_start) & (df[\"Период\"] <= test_end)].copy()\n",
    "\n",
    "    # Prophet format\n",
    "    prophet_train = train_df[[\"Период\", target]].rename(columns={\"Период\": \"ds\", target: \"y\"})\n",
    "    prophet_test = test_df[[\"Период\", target]].rename(columns={\"Период\": \"ds\", target: \"y\"})\n",
    "\n",
    "    # Initialize Prophet\n",
    "    model = Prophet()\n",
    "\n",
    "    # Optional: add regressors\n",
    "    # model.add_regressor(\"Температура\")\n",
    "    # model.add_regressor(\"Осадки\")\n",
    "    # model.add_regressor(\"Поголовье: КРС\")\n",
    "    # prophet_train[\"Температура\"] = train_df[\"Температура\"].values\n",
    "    # prophet_test[\"Температура\"] = test_df[\"Температура\"].values\n",
    "\n",
    "    # Fit\n",
    "    model.fit(prophet_train)\n",
    "\n",
    "    # Create future dataframe\n",
    "    future = model.make_future_dataframe(periods=3, freq=\"M\")\n",
    "    forecast = model.predict(future)\n",
    "# forecast\n",
    "# prophet_test\n",
    "\n",
    "    # Extract forecast for test period only\n",
    "    forecast_test = forecast[forecast[\"ds\"].isin(prophet_test[\"ds\"] - pd.DateOffset(days=1))].copy()\n",
    "    y_pred = forecast_test[\"yhat\"].values\n",
    "    y_true = prophet_test[\"y\"].values\n",
    "\n",
    "    # Evaluate\n",
    "    rmse = np.sqrt(mean_squared_error(y_true, y_pred))\n",
    "    mae = mean_absolute_error(y_true, y_pred)\n",
    "    mape = (np.abs((y_true - y_pred) / y_true).mean()) * 100\n",
    "\n",
    "    results.append({\n",
    "        \"Test period\": f\"{start} to {test_end.strftime('%Y-%m')}\",\n",
    "        \"RMSE\": rmse,\n",
    "        \"MAE\": mae,\n",
    "        \"MAPE (%)\": mape\n",
    "    })\n",
    "\n",
    "    # Plot\n",
    "    plt.figure(figsize=(10, 5))\n",
    "    last_train = train_df[train_df[\"Период\"] >= (test_start - pd.DateOffset(months=12))]\n",
    "    plt.plot(last_train[\"Период\"], last_train[target], color=\"lightgray\", label=\"Фактические данные (последний год)\")\n",
    "    plt.plot(test_df[\"Период\"], test_df[target], marker=\"o\", color=\"black\", label=\"Фактические данные (тестовый период)\")\n",
    "    plt.plot(test_df[\"Период\"], y_pred, marker=\"s\", linestyle=\"--\", color=\"blue\", label=\"Прогнозные данные (тестовый период)\")\n",
    "    plt.axvline(test_start, color=\"gray\", linestyle=\"--\", label=\"Граница между тренировочными и тестовыми данными\")\n",
    "    plt.title(f\"Акмолинская область — Prophet (с {start} по {test_end.strftime('%Y-%m')})\")\n",
    "    plt.xlabel(\"Период\")\n",
    "    plt.ylabel(\"Объем убоя: КРС\")\n",
    "    plt.legend()\n",
    "    plt.grid(True)\n",
    "    plt.xticks(rotation=45)\n",
    "    plt.tight_layout()\n",
    "    plt.show()\n",
    "\n"
   ]
  },
  {
   "cell_type": "code",
   "execution_count": null,
   "metadata": {},
   "outputs": [],
   "source": [
    "results_df = pd.DataFrame(results)\n",
    "avg = results_df[[\"RMSE\", \"MAE\", \"MAPE (%)\"]].mean().to_dict()\n",
    "avg[\"Test period\"] = \"Average\"\n",
    "results_df = pd.concat([results_df, pd.DataFrame([avg])], ignore_index=True)\n",
    "print(results_df)"
   ]
  },
  {
   "cell_type": "code",
   "execution_count": null,
   "metadata": {},
   "outputs": [],
   "source": []
  },
  {
   "cell_type": "code",
   "execution_count": null,
   "metadata": {},
   "outputs": [],
   "source": []
  },
  {
   "cell_type": "code",
   "execution_count": null,
   "metadata": {},
   "outputs": [],
   "source": []
  },
  {
   "cell_type": "code",
   "execution_count": null,
   "metadata": {},
   "outputs": [],
   "source": []
  },
  {
   "cell_type": "code",
   "execution_count": null,
   "metadata": {},
   "outputs": [],
   "source": []
  },
  {
   "cell_type": "code",
   "execution_count": null,
   "metadata": {},
   "outputs": [],
   "source": []
  },
  {
   "cell_type": "code",
   "execution_count": null,
   "metadata": {},
   "outputs": [],
   "source": []
  },
  {
   "cell_type": "markdown",
   "metadata": {},
   "source": [
    "strength of correlation:\n",
    "https://link.springer.com/article/10.1057/jt.2009.5#\n",
    "https://resources.nu.edu/statsresources/correlation"
   ]
  }
 ],
 "metadata": {
  "kernelspec": {
   "display_name": "Python 3",
   "language": "python",
   "name": "python3"
  },
  "language_info": {
   "codemirror_mode": {
    "name": "ipython",
    "version": 3
   },
   "file_extension": ".py",
   "mimetype": "text/x-python",
   "name": "python",
   "nbconvert_exporter": "python",
   "pygments_lexer": "ipython3",
   "version": "3.12.3"
  }
 },
 "nbformat": 4,
 "nbformat_minor": 2
}
